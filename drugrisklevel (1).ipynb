{
  "nbformat": 4,
  "nbformat_minor": 0,
  "metadata": {
    "colab": {
      "name": "drugrisklevel.ipynb",
      "provenance": [],
      "collapsed_sections": []
    },
    "kernelspec": {
      "name": "python3",
      "display_name": "Python 3"
    },
    "language_info": {
      "name": "python"
    }
  },
  "cells": [
    {
      "cell_type": "code",
      "metadata": {
        "colab": {
          "base_uri": "https://localhost:8080/"
        },
        "id": "lINv0frGCxws",
        "outputId": "07ea859d-12ae-492d-f354-2a92f7e0d08c"
      },
      "source": [
        "from google.colab import drive\n",
        "drive.mount('/content/drive')"
      ],
      "execution_count": null,
      "outputs": [
        {
          "output_type": "stream",
          "text": [
            "Mounted at /content/drive\n"
          ],
          "name": "stdout"
        }
      ]
    },
    {
      "cell_type": "code",
      "metadata": {
        "id": "2_aqz8snC3Yu"
      },
      "source": [
        "from mpl_toolkits.mplot3d import Axes3D\n",
        "from sklearn.preprocessing import StandardScaler\n",
        "import matplotlib.pyplot as plt # plotting\n",
        "import numpy as np # linear algebra\n",
        "import os # accessing directory structure\n",
        "import pandas as pd # data processing, CSV file I/O (e.g. pd.read_csv)"
      ],
      "execution_count": null,
      "outputs": []
    },
    {
      "cell_type": "code",
      "metadata": {
        "colab": {
          "base_uri": "https://localhost:8080/"
        },
        "id": "45hLJ6W1C_Gc",
        "outputId": "6c95caaf-bcac-494d-bc09-688f4170dc98"
      },
      "source": [
        "nRowsRead = 1000 # specify 'None' if want to read whole file\n",
        "# drugsComTest_raw.csv may have more rows in reality, but we are only loading/previewing the first 1000 rows\n",
        "df1 = pd.read_csv('/content/drive/MyDrive/drugrisk/data/drugsComTrain_raw.csv', delimiter=',', nrows = nRowsRead)\n",
        "df1.dataframeName = 'drugsComTrain_raw.csv'\n",
        "nRow, nCol = df1.shape\n",
        "print(f'There are {nRow} rows and {nCol} columns')"
      ],
      "execution_count": null,
      "outputs": [
        {
          "output_type": "stream",
          "text": [
            "There are 1000 rows and 7 columns\n"
          ],
          "name": "stdout"
        }
      ]
    },
    {
      "cell_type": "code",
      "metadata": {
        "colab": {
          "base_uri": "https://localhost:8080/",
          "height": 343
        },
        "id": "-0rjT0S3DAkP",
        "outputId": "a003a089-8795-47aa-921b-e616e7dd4b08"
      },
      "source": [
        "df1.head(10)"
      ],
      "execution_count": null,
      "outputs": [
        {
          "output_type": "execute_result",
          "data": {
            "text/html": [
              "<div>\n",
              "<style scoped>\n",
              "    .dataframe tbody tr th:only-of-type {\n",
              "        vertical-align: middle;\n",
              "    }\n",
              "\n",
              "    .dataframe tbody tr th {\n",
              "        vertical-align: top;\n",
              "    }\n",
              "\n",
              "    .dataframe thead th {\n",
              "        text-align: right;\n",
              "    }\n",
              "</style>\n",
              "<table border=\"1\" class=\"dataframe\">\n",
              "  <thead>\n",
              "    <tr style=\"text-align: right;\">\n",
              "      <th></th>\n",
              "      <th>uniqueID</th>\n",
              "      <th>drugName</th>\n",
              "      <th>condition</th>\n",
              "      <th>review</th>\n",
              "      <th>rating</th>\n",
              "      <th>date</th>\n",
              "      <th>usefulCount</th>\n",
              "    </tr>\n",
              "  </thead>\n",
              "  <tbody>\n",
              "    <tr>\n",
              "      <th>0</th>\n",
              "      <td>206461</td>\n",
              "      <td>Valsartan</td>\n",
              "      <td>Left Ventricular Dysfunction</td>\n",
              "      <td>\"It has no side effect, I take it in combinati...</td>\n",
              "      <td>9</td>\n",
              "      <td>20-May-12</td>\n",
              "      <td>27</td>\n",
              "    </tr>\n",
              "    <tr>\n",
              "      <th>1</th>\n",
              "      <td>95260</td>\n",
              "      <td>Guanfacine</td>\n",
              "      <td>ADHD</td>\n",
              "      <td>\"My son is halfway through his fourth week of ...</td>\n",
              "      <td>8</td>\n",
              "      <td>27-Apr-10</td>\n",
              "      <td>192</td>\n",
              "    </tr>\n",
              "    <tr>\n",
              "      <th>2</th>\n",
              "      <td>92703</td>\n",
              "      <td>Lybrel</td>\n",
              "      <td>Birth Control</td>\n",
              "      <td>\"I used to take another oral contraceptive, wh...</td>\n",
              "      <td>5</td>\n",
              "      <td>14-Dec-09</td>\n",
              "      <td>17</td>\n",
              "    </tr>\n",
              "    <tr>\n",
              "      <th>3</th>\n",
              "      <td>138000</td>\n",
              "      <td>Ortho Evra</td>\n",
              "      <td>Birth Control</td>\n",
              "      <td>\"This is my first time using any form of birth...</td>\n",
              "      <td>8</td>\n",
              "      <td>3-Nov-15</td>\n",
              "      <td>10</td>\n",
              "    </tr>\n",
              "    <tr>\n",
              "      <th>4</th>\n",
              "      <td>35696</td>\n",
              "      <td>Buprenorphine / naloxone</td>\n",
              "      <td>Opiate Dependence</td>\n",
              "      <td>\"Suboxone has completely turned my life around...</td>\n",
              "      <td>9</td>\n",
              "      <td>27-Nov-16</td>\n",
              "      <td>37</td>\n",
              "    </tr>\n",
              "    <tr>\n",
              "      <th>5</th>\n",
              "      <td>155963</td>\n",
              "      <td>Cialis</td>\n",
              "      <td>Benign Prostatic Hyperplasia</td>\n",
              "      <td>\"2nd day on 5mg started to work with rock hard...</td>\n",
              "      <td>2</td>\n",
              "      <td>28-Nov-15</td>\n",
              "      <td>43</td>\n",
              "    </tr>\n",
              "    <tr>\n",
              "      <th>6</th>\n",
              "      <td>165907</td>\n",
              "      <td>Levonorgestrel</td>\n",
              "      <td>Emergency Contraception</td>\n",
              "      <td>\"He pulled out, but he cummed a bit in me. I t...</td>\n",
              "      <td>1</td>\n",
              "      <td>7-Mar-17</td>\n",
              "      <td>5</td>\n",
              "    </tr>\n",
              "    <tr>\n",
              "      <th>7</th>\n",
              "      <td>102654</td>\n",
              "      <td>Aripiprazole</td>\n",
              "      <td>Bipolar Disorde</td>\n",
              "      <td>\"Abilify changed my life. There is hope. I was...</td>\n",
              "      <td>10</td>\n",
              "      <td>14-Mar-15</td>\n",
              "      <td>32</td>\n",
              "    </tr>\n",
              "    <tr>\n",
              "      <th>8</th>\n",
              "      <td>74811</td>\n",
              "      <td>Keppra</td>\n",
              "      <td>Epilepsy</td>\n",
              "      <td>\" I Ve had  nothing but problems with the Kepp...</td>\n",
              "      <td>1</td>\n",
              "      <td>9-Aug-16</td>\n",
              "      <td>11</td>\n",
              "    </tr>\n",
              "    <tr>\n",
              "      <th>9</th>\n",
              "      <td>48928</td>\n",
              "      <td>Ethinyl estradiol / levonorgestrel</td>\n",
              "      <td>Birth Control</td>\n",
              "      <td>\"I had been on the pill for many years. When m...</td>\n",
              "      <td>8</td>\n",
              "      <td>8-Dec-16</td>\n",
              "      <td>1</td>\n",
              "    </tr>\n",
              "  </tbody>\n",
              "</table>\n",
              "</div>"
            ],
            "text/plain": [
              "   uniqueID                            drugName  ...       date usefulCount\n",
              "0    206461                           Valsartan  ...  20-May-12          27\n",
              "1     95260                          Guanfacine  ...  27-Apr-10         192\n",
              "2     92703                              Lybrel  ...  14-Dec-09          17\n",
              "3    138000                          Ortho Evra  ...   3-Nov-15          10\n",
              "4     35696            Buprenorphine / naloxone  ...  27-Nov-16          37\n",
              "5    155963                              Cialis  ...  28-Nov-15          43\n",
              "6    165907                      Levonorgestrel  ...   7-Mar-17           5\n",
              "7    102654                        Aripiprazole  ...  14-Mar-15          32\n",
              "8     74811                              Keppra  ...   9-Aug-16          11\n",
              "9     48928  Ethinyl estradiol / levonorgestrel  ...   8-Dec-16           1\n",
              "\n",
              "[10 rows x 7 columns]"
            ]
          },
          "metadata": {
            "tags": []
          },
          "execution_count": 4
        }
      ]
    },
    {
      "cell_type": "code",
      "metadata": {
        "colab": {
          "base_uri": "https://localhost:8080/"
        },
        "id": "0v9poV2kDCG1",
        "outputId": "55e86e2c-8652-47dd-b10e-0b6d1e722437"
      },
      "source": [
        "nRowsRead = 1000 # specify 'None' if want to read whole file\n",
        "# drugsComTrain_raw.csv may have more rows in reality, but we are only loading/previewing the first 1000 rows\n",
        "df2 = pd.read_csv('/content/drive/MyDrive/drugrisk/data/drugsComTest_raw.csv', delimiter=',', nrows = nRowsRead)\n",
        "df2.dataframeName = 'drugsComTest_raw.csv'\n",
        "nRow, nCol = df2.shape\n",
        "print(f'There are {nRow} rows and {nCol} columns')"
      ],
      "execution_count": null,
      "outputs": [
        {
          "output_type": "stream",
          "text": [
            "There are 1000 rows and 7 columns\n"
          ],
          "name": "stdout"
        }
      ]
    },
    {
      "cell_type": "code",
      "metadata": {
        "id": "o3yH2Ju4DD1O"
      },
      "source": [
        "import seaborn as sns\n",
        "%matplotlib inline\n",
        "from matplotlib import style\n",
        "style.use('ggplot')"
      ],
      "execution_count": null,
      "outputs": []
    },
    {
      "cell_type": "code",
      "metadata": {
        "colab": {
          "base_uri": "https://localhost:8080/",
          "height": 195
        },
        "id": "LclgNi9iDFc8",
        "outputId": "a034535d-5961-4304-9a98-fcd555f8f890"
      },
      "source": [
        "df1.head()"
      ],
      "execution_count": null,
      "outputs": [
        {
          "output_type": "execute_result",
          "data": {
            "text/html": [
              "<div>\n",
              "<style scoped>\n",
              "    .dataframe tbody tr th:only-of-type {\n",
              "        vertical-align: middle;\n",
              "    }\n",
              "\n",
              "    .dataframe tbody tr th {\n",
              "        vertical-align: top;\n",
              "    }\n",
              "\n",
              "    .dataframe thead th {\n",
              "        text-align: right;\n",
              "    }\n",
              "</style>\n",
              "<table border=\"1\" class=\"dataframe\">\n",
              "  <thead>\n",
              "    <tr style=\"text-align: right;\">\n",
              "      <th></th>\n",
              "      <th>uniqueID</th>\n",
              "      <th>drugName</th>\n",
              "      <th>condition</th>\n",
              "      <th>review</th>\n",
              "      <th>rating</th>\n",
              "      <th>date</th>\n",
              "      <th>usefulCount</th>\n",
              "    </tr>\n",
              "  </thead>\n",
              "  <tbody>\n",
              "    <tr>\n",
              "      <th>0</th>\n",
              "      <td>206461</td>\n",
              "      <td>Valsartan</td>\n",
              "      <td>Left Ventricular Dysfunction</td>\n",
              "      <td>\"It has no side effect, I take it in combinati...</td>\n",
              "      <td>9</td>\n",
              "      <td>20-May-12</td>\n",
              "      <td>27</td>\n",
              "    </tr>\n",
              "    <tr>\n",
              "      <th>1</th>\n",
              "      <td>95260</td>\n",
              "      <td>Guanfacine</td>\n",
              "      <td>ADHD</td>\n",
              "      <td>\"My son is halfway through his fourth week of ...</td>\n",
              "      <td>8</td>\n",
              "      <td>27-Apr-10</td>\n",
              "      <td>192</td>\n",
              "    </tr>\n",
              "    <tr>\n",
              "      <th>2</th>\n",
              "      <td>92703</td>\n",
              "      <td>Lybrel</td>\n",
              "      <td>Birth Control</td>\n",
              "      <td>\"I used to take another oral contraceptive, wh...</td>\n",
              "      <td>5</td>\n",
              "      <td>14-Dec-09</td>\n",
              "      <td>17</td>\n",
              "    </tr>\n",
              "    <tr>\n",
              "      <th>3</th>\n",
              "      <td>138000</td>\n",
              "      <td>Ortho Evra</td>\n",
              "      <td>Birth Control</td>\n",
              "      <td>\"This is my first time using any form of birth...</td>\n",
              "      <td>8</td>\n",
              "      <td>3-Nov-15</td>\n",
              "      <td>10</td>\n",
              "    </tr>\n",
              "    <tr>\n",
              "      <th>4</th>\n",
              "      <td>35696</td>\n",
              "      <td>Buprenorphine / naloxone</td>\n",
              "      <td>Opiate Dependence</td>\n",
              "      <td>\"Suboxone has completely turned my life around...</td>\n",
              "      <td>9</td>\n",
              "      <td>27-Nov-16</td>\n",
              "      <td>37</td>\n",
              "    </tr>\n",
              "  </tbody>\n",
              "</table>\n",
              "</div>"
            ],
            "text/plain": [
              "   uniqueID                  drugName  ...       date usefulCount\n",
              "0    206461                 Valsartan  ...  20-May-12          27\n",
              "1     95260                Guanfacine  ...  27-Apr-10         192\n",
              "2     92703                    Lybrel  ...  14-Dec-09          17\n",
              "3    138000                Ortho Evra  ...   3-Nov-15          10\n",
              "4     35696  Buprenorphine / naloxone  ...  27-Nov-16          37\n",
              "\n",
              "[5 rows x 7 columns]"
            ]
          },
          "metadata": {
            "tags": []
          },
          "execution_count": 7
        }
      ]
    },
    {
      "cell_type": "code",
      "metadata": {
        "colab": {
          "base_uri": "https://localhost:8080/",
          "height": 195
        },
        "id": "l39kiaQPDHIP",
        "outputId": "36197a26-156a-46b9-cd7f-7367522ea57e"
      },
      "source": [
        "df2.head()"
      ],
      "execution_count": null,
      "outputs": [
        {
          "output_type": "execute_result",
          "data": {
            "text/html": [
              "<div>\n",
              "<style scoped>\n",
              "    .dataframe tbody tr th:only-of-type {\n",
              "        vertical-align: middle;\n",
              "    }\n",
              "\n",
              "    .dataframe tbody tr th {\n",
              "        vertical-align: top;\n",
              "    }\n",
              "\n",
              "    .dataframe thead th {\n",
              "        text-align: right;\n",
              "    }\n",
              "</style>\n",
              "<table border=\"1\" class=\"dataframe\">\n",
              "  <thead>\n",
              "    <tr style=\"text-align: right;\">\n",
              "      <th></th>\n",
              "      <th>uniqueID</th>\n",
              "      <th>drugName</th>\n",
              "      <th>condition</th>\n",
              "      <th>review</th>\n",
              "      <th>rating</th>\n",
              "      <th>date</th>\n",
              "      <th>usefulCount</th>\n",
              "    </tr>\n",
              "  </thead>\n",
              "  <tbody>\n",
              "    <tr>\n",
              "      <th>0</th>\n",
              "      <td>163740</td>\n",
              "      <td>Mirtazapine</td>\n",
              "      <td>Depression</td>\n",
              "      <td>\"I&amp;#039;ve tried a few antidepressants over th...</td>\n",
              "      <td>10</td>\n",
              "      <td>28-Feb-12</td>\n",
              "      <td>22</td>\n",
              "    </tr>\n",
              "    <tr>\n",
              "      <th>1</th>\n",
              "      <td>206473</td>\n",
              "      <td>Mesalamine</td>\n",
              "      <td>Crohn's Disease, Maintenance</td>\n",
              "      <td>\"My son has Crohn&amp;#039;s disease and has done ...</td>\n",
              "      <td>8</td>\n",
              "      <td>17-May-09</td>\n",
              "      <td>17</td>\n",
              "    </tr>\n",
              "    <tr>\n",
              "      <th>2</th>\n",
              "      <td>159672</td>\n",
              "      <td>Bactrim</td>\n",
              "      <td>Urinary Tract Infection</td>\n",
              "      <td>\"Quick reduction of symptoms\"</td>\n",
              "      <td>9</td>\n",
              "      <td>29-Sep-17</td>\n",
              "      <td>3</td>\n",
              "    </tr>\n",
              "    <tr>\n",
              "      <th>3</th>\n",
              "      <td>39293</td>\n",
              "      <td>Contrave</td>\n",
              "      <td>Weight Loss</td>\n",
              "      <td>\"Contrave combines drugs that were used for al...</td>\n",
              "      <td>9</td>\n",
              "      <td>5-Mar-17</td>\n",
              "      <td>35</td>\n",
              "    </tr>\n",
              "    <tr>\n",
              "      <th>4</th>\n",
              "      <td>97768</td>\n",
              "      <td>Cyclafem 1 / 35</td>\n",
              "      <td>Birth Control</td>\n",
              "      <td>\"I have been on this birth control for one cyc...</td>\n",
              "      <td>9</td>\n",
              "      <td>22-Oct-15</td>\n",
              "      <td>4</td>\n",
              "    </tr>\n",
              "  </tbody>\n",
              "</table>\n",
              "</div>"
            ],
            "text/plain": [
              "   uniqueID         drugName  ...       date usefulCount\n",
              "0    163740      Mirtazapine  ...  28-Feb-12          22\n",
              "1    206473       Mesalamine  ...  17-May-09          17\n",
              "2    159672          Bactrim  ...  29-Sep-17           3\n",
              "3     39293         Contrave  ...   5-Mar-17          35\n",
              "4     97768  Cyclafem 1 / 35  ...  22-Oct-15           4\n",
              "\n",
              "[5 rows x 7 columns]"
            ]
          },
          "metadata": {
            "tags": []
          },
          "execution_count": 8
        }
      ]
    },
    {
      "cell_type": "code",
      "metadata": {
        "colab": {
          "base_uri": "https://localhost:8080/"
        },
        "id": "OVc6RQHCDIug",
        "outputId": "1e56790b-2efa-4576-81e1-0e0a93664083"
      },
      "source": [
        "print(f'train has {df1.shape[0]} number of rows and {df1.shape[1]} number of columns')\n",
        "print(f'train has {df2.shape[0]} number of rows and {df2.shape[1]} number of columns')"
      ],
      "execution_count": null,
      "outputs": [
        {
          "output_type": "stream",
          "text": [
            "train has 1000 number of rows and 7 number of columns\n",
            "train has 1000 number of rows and 7 number of columns\n"
          ],
          "name": "stdout"
        }
      ]
    },
    {
      "cell_type": "code",
      "metadata": {
        "colab": {
          "base_uri": "https://localhost:8080/"
        },
        "id": "72l6rCeVDKZ5",
        "outputId": "335ce942-88c0-4afb-d1c3-baa70e46b0ee"
      },
      "source": [
        "merge = [df1,df2]\n",
        "merged_data = pd.concat(merge,ignore_index=True)\n",
        "\n",
        "merged_data.shape"
      ],
      "execution_count": null,
      "outputs": [
        {
          "output_type": "execute_result",
          "data": {
            "text/plain": [
              "(2000, 7)"
            ]
          },
          "metadata": {
            "tags": []
          },
          "execution_count": 10
        }
      ]
    },
    {
      "cell_type": "code",
      "metadata": {
        "colab": {
          "base_uri": "https://localhost:8080/"
        },
        "id": "xZyTufhLDMW8",
        "outputId": "fece95d7-692d-4992-e475-84bab9222701"
      },
      "source": [
        "merged_data['uniqueID'].nunique()"
      ],
      "execution_count": null,
      "outputs": [
        {
          "output_type": "execute_result",
          "data": {
            "text/plain": [
              "2000"
            ]
          },
          "metadata": {
            "tags": []
          },
          "execution_count": 11
        }
      ]
    },
    {
      "cell_type": "code",
      "metadata": {
        "colab": {
          "base_uri": "https://localhost:8080/"
        },
        "id": "-vaIWxNLDN3U",
        "outputId": "523838a3-081a-4c6c-9315-ae7038230b7c"
      },
      "source": [
        "merged_data.info()"
      ],
      "execution_count": null,
      "outputs": [
        {
          "output_type": "stream",
          "text": [
            "<class 'pandas.core.frame.DataFrame'>\n",
            "RangeIndex: 2000 entries, 0 to 1999\n",
            "Data columns (total 7 columns):\n",
            " #   Column       Non-Null Count  Dtype \n",
            "---  ------       --------------  ----- \n",
            " 0   uniqueID     2000 non-null   int64 \n",
            " 1   drugName     2000 non-null   object\n",
            " 2   condition    1991 non-null   object\n",
            " 3   review       2000 non-null   object\n",
            " 4   rating       2000 non-null   int64 \n",
            " 5   date         2000 non-null   object\n",
            " 6   usefulCount  2000 non-null   int64 \n",
            "dtypes: int64(3), object(4)\n",
            "memory usage: 109.5+ KB\n"
          ],
          "name": "stdout"
        }
      ]
    },
    {
      "cell_type": "code",
      "metadata": {
        "colab": {
          "base_uri": "https://localhost:8080/",
          "height": 373
        },
        "id": "EPquCQJVDPPa",
        "outputId": "a608db6e-0c60-429b-88b8-6139fb99e38c"
      },
      "source": [
        "merged_data.describe(include='all')"
      ],
      "execution_count": null,
      "outputs": [
        {
          "output_type": "execute_result",
          "data": {
            "text/html": [
              "<div>\n",
              "<style scoped>\n",
              "    .dataframe tbody tr th:only-of-type {\n",
              "        vertical-align: middle;\n",
              "    }\n",
              "\n",
              "    .dataframe tbody tr th {\n",
              "        vertical-align: top;\n",
              "    }\n",
              "\n",
              "    .dataframe thead th {\n",
              "        text-align: right;\n",
              "    }\n",
              "</style>\n",
              "<table border=\"1\" class=\"dataframe\">\n",
              "  <thead>\n",
              "    <tr style=\"text-align: right;\">\n",
              "      <th></th>\n",
              "      <th>uniqueID</th>\n",
              "      <th>drugName</th>\n",
              "      <th>condition</th>\n",
              "      <th>review</th>\n",
              "      <th>rating</th>\n",
              "      <th>date</th>\n",
              "      <th>usefulCount</th>\n",
              "    </tr>\n",
              "  </thead>\n",
              "  <tbody>\n",
              "    <tr>\n",
              "      <th>count</th>\n",
              "      <td>2000.000000</td>\n",
              "      <td>2000</td>\n",
              "      <td>1991</td>\n",
              "      <td>2000</td>\n",
              "      <td>2000.000000</td>\n",
              "      <td>2000</td>\n",
              "      <td>2000.000000</td>\n",
              "    </tr>\n",
              "    <tr>\n",
              "      <th>unique</th>\n",
              "      <td>NaN</td>\n",
              "      <td>719</td>\n",
              "      <td>270</td>\n",
              "      <td>1991</td>\n",
              "      <td>NaN</td>\n",
              "      <td>1403</td>\n",
              "      <td>NaN</td>\n",
              "    </tr>\n",
              "    <tr>\n",
              "      <th>top</th>\n",
              "      <td>NaN</td>\n",
              "      <td>Levonorgestrel</td>\n",
              "      <td>Birth Control</td>\n",
              "      <td>\"I have only been on orsythia for about 1 mont...</td>\n",
              "      <td>NaN</td>\n",
              "      <td>12-Jan-16</td>\n",
              "      <td>NaN</td>\n",
              "    </tr>\n",
              "    <tr>\n",
              "      <th>freq</th>\n",
              "      <td>NaN</td>\n",
              "      <td>52</td>\n",
              "      <td>372</td>\n",
              "      <td>2</td>\n",
              "      <td>NaN</td>\n",
              "      <td>5</td>\n",
              "      <td>NaN</td>\n",
              "    </tr>\n",
              "    <tr>\n",
              "      <th>mean</th>\n",
              "      <td>118232.214500</td>\n",
              "      <td>NaN</td>\n",
              "      <td>NaN</td>\n",
              "      <td>NaN</td>\n",
              "      <td>6.992500</td>\n",
              "      <td>NaN</td>\n",
              "      <td>27.812500</td>\n",
              "    </tr>\n",
              "    <tr>\n",
              "      <th>std</th>\n",
              "      <td>67743.720378</td>\n",
              "      <td>NaN</td>\n",
              "      <td>NaN</td>\n",
              "      <td>NaN</td>\n",
              "      <td>3.275486</td>\n",
              "      <td>NaN</td>\n",
              "      <td>36.919031</td>\n",
              "    </tr>\n",
              "    <tr>\n",
              "      <th>min</th>\n",
              "      <td>226.000000</td>\n",
              "      <td>NaN</td>\n",
              "      <td>NaN</td>\n",
              "      <td>NaN</td>\n",
              "      <td>1.000000</td>\n",
              "      <td>NaN</td>\n",
              "      <td>0.000000</td>\n",
              "    </tr>\n",
              "    <tr>\n",
              "      <th>25%</th>\n",
              "      <td>58195.750000</td>\n",
              "      <td>NaN</td>\n",
              "      <td>NaN</td>\n",
              "      <td>NaN</td>\n",
              "      <td>4.000000</td>\n",
              "      <td>NaN</td>\n",
              "      <td>6.000000</td>\n",
              "    </tr>\n",
              "    <tr>\n",
              "      <th>50%</th>\n",
              "      <td>121315.500000</td>\n",
              "      <td>NaN</td>\n",
              "      <td>NaN</td>\n",
              "      <td>NaN</td>\n",
              "      <td>8.000000</td>\n",
              "      <td>NaN</td>\n",
              "      <td>15.000000</td>\n",
              "    </tr>\n",
              "    <tr>\n",
              "      <th>75%</th>\n",
              "      <td>176780.750000</td>\n",
              "      <td>NaN</td>\n",
              "      <td>NaN</td>\n",
              "      <td>NaN</td>\n",
              "      <td>10.000000</td>\n",
              "      <td>NaN</td>\n",
              "      <td>36.000000</td>\n",
              "    </tr>\n",
              "    <tr>\n",
              "      <th>max</th>\n",
              "      <td>232277.000000</td>\n",
              "      <td>NaN</td>\n",
              "      <td>NaN</td>\n",
              "      <td>NaN</td>\n",
              "      <td>10.000000</td>\n",
              "      <td>NaN</td>\n",
              "      <td>470.000000</td>\n",
              "    </tr>\n",
              "  </tbody>\n",
              "</table>\n",
              "</div>"
            ],
            "text/plain": [
              "             uniqueID        drugName  ...       date  usefulCount\n",
              "count     2000.000000            2000  ...       2000  2000.000000\n",
              "unique            NaN             719  ...       1403          NaN\n",
              "top               NaN  Levonorgestrel  ...  12-Jan-16          NaN\n",
              "freq              NaN              52  ...          5          NaN\n",
              "mean    118232.214500             NaN  ...        NaN    27.812500\n",
              "std      67743.720378             NaN  ...        NaN    36.919031\n",
              "min        226.000000             NaN  ...        NaN     0.000000\n",
              "25%      58195.750000             NaN  ...        NaN     6.000000\n",
              "50%     121315.500000             NaN  ...        NaN    15.000000\n",
              "75%     176780.750000             NaN  ...        NaN    36.000000\n",
              "max     232277.000000             NaN  ...        NaN   470.000000\n",
              "\n",
              "[11 rows x 7 columns]"
            ]
          },
          "metadata": {
            "tags": []
          },
          "execution_count": 13
        }
      ]
    },
    {
      "cell_type": "code",
      "metadata": {
        "colab": {
          "base_uri": "https://localhost:8080/"
        },
        "id": "7IObLPzSDRc2",
        "outputId": "cf5c03df-67fd-4fbb-c70f-8e1d1f7764e5"
      },
      "source": [
        "merged_data.isnull().sum()/merged_data.shape[0]"
      ],
      "execution_count": null,
      "outputs": [
        {
          "output_type": "execute_result",
          "data": {
            "text/plain": [
              "uniqueID       0.0000\n",
              "drugName       0.0000\n",
              "condition      0.0045\n",
              "review         0.0000\n",
              "rating         0.0000\n",
              "date           0.0000\n",
              "usefulCount    0.0000\n",
              "dtype: float64"
            ]
          },
          "metadata": {
            "tags": []
          },
          "execution_count": 14
        }
      ]
    },
    {
      "cell_type": "code",
      "metadata": {
        "colab": {
          "base_uri": "https://localhost:8080/"
        },
        "id": "byvXJRwrDTau",
        "outputId": "e528a980-79ed-48cb-ef77-efdb8fd2b171"
      },
      "source": [
        "print(merged_data['drugName'].nunique())\n",
        "print(merged_data['condition'].nunique())"
      ],
      "execution_count": null,
      "outputs": [
        {
          "output_type": "stream",
          "text": [
            "719\n",
            "270\n"
          ],
          "name": "stdout"
        }
      ]
    },
    {
      "cell_type": "code",
      "metadata": {
        "colab": {
          "base_uri": "https://localhost:8080/",
          "height": 515
        },
        "id": "EyoEuGwaDVNd",
        "outputId": "6190398f-1a2b-47bc-9b69-80b8eac456d4"
      },
      "source": [
        "plt.figure(figsize=(12,6))\n",
        "conditions = merged_data['condition'].value_counts(ascending = False).head(20)\n",
        "plt.bar(conditions.index,conditions.values)\n",
        "plt.title('Top-20 Conditions',fontsize = 20)\n",
        "plt.xticks(rotation=90)\n",
        "plt.ylabel('count')\n",
        "plt.show()"
      ],
      "execution_count": null,
      "outputs": [
        {
          "output_type": "display_data",
          "data": {
            "image/png": "[encoded data removed]",
            "text/plain": [
              "<Figure size 864x432 with 1 Axes>"
            ]
          },
          "metadata": {
            "tags": []
          }
        }
      ]
    },
    {
      "cell_type": "code",
      "metadata": {
        "colab": {
          "base_uri": "https://localhost:8080/",
          "height": 616
        },
        "id": "0bV2lW2YDWur",
        "outputId": "082d44db-d7de-4501-d9ed-6aec5ee69d5b"
      },
      "source": [
        "plt.figure(figsize=(12,6))\n",
        "conditions_bottom = merged_data['condition'].value_counts(ascending = False).tail(20)\n",
        "\n",
        "plt.bar(conditions_bottom.index,conditions_bottom.values)\n",
        "plt.title('Bottom-20 Conditions',fontsize = 20)\n",
        "plt.xticks(rotation=90)\n",
        "plt.ylabel('count')\n",
        "plt.show()"
      ],
      "execution_count": null,
      "outputs": [
        {
          "output_type": "display_data",
          "data": {
            "image/png": "[encoded data removed]",
            "text/plain": [
              "<Figure size 864x432 with 1 Axes>"
            ]
          },
          "metadata": {
            "tags": []
          }
        }
      ]
    },
    {
      "cell_type": "code",
      "metadata": {
        "colab": {
          "base_uri": "https://localhost:8080/"
        },
        "id": "3gIq9cVTDYkI",
        "outputId": "afc9df85-1fa3-4cdd-9890-84d121fff9e1"
      },
      "source": [
        "ratings_ = merged_data['rating'].value_counts().sort_values(ascending=False).reset_index().\\\n",
        "                    rename(columns = {'index' :'rating', 'rating' : 'counts'})\n",
        "ratings_['percent'] = 100 * (ratings_['counts']/merged_data.shape[0])\n",
        "print(ratings_)"
      ],
      "execution_count": null,
      "outputs": [
        {
          "output_type": "stream",
          "text": [
            "   rating  counts  percent\n",
            "0      10     641    32.05\n",
            "1       9     341    17.05\n",
            "2       1     261    13.05\n",
            "3       8     226    11.30\n",
            "4       5     106     5.30\n",
            "5       7     104     5.20\n",
            "6       3      93     4.65\n",
            "7       2      85     4.25\n",
            "8       6      79     3.95\n",
            "9       4      64     3.20\n"
          ],
          "name": "stdout"
        }
      ]
    },
    {
      "cell_type": "code",
      "metadata": {
        "colab": {
          "base_uri": "https://localhost:8080/",
          "height": 419
        },
        "id": "uL5EWYZ5DaX4",
        "outputId": "7025816c-f062-4167-c804-7ea28bd15031"
      },
      "source": [
        "sns.set(font_scale = 1.2, style = 'darkgrid')\n",
        "plt.rcParams['figure.figsize'] = [12, 6]\n",
        "sns.barplot(x = ratings_['rating'], y = ratings_['percent'],order = ratings_['rating'])\n",
        "plt.title('Ratings Percent',fontsize=20)\n",
        "plt.show()"
      ],
      "execution_count": null,
      "outputs": [
        {
          "output_type": "display_data",
          "data": {
            "image/png": "[encoded data removed]",
            "text/plain": [
              "<Figure size 864x432 with 1 Axes>"
            ]
          },
          "metadata": {
            "tags": []
          }
        }
      ]
    },
    {
      "cell_type": "code",
      "metadata": {
        "colab": {
          "base_uri": "https://localhost:8080/",
          "height": 357
        },
        "id": "ddqElTubDcab",
        "outputId": "b0239ba0-98b9-4515-8700-d02eb6ff8d88"
      },
      "source": [
        "sns.boxplot(y = merged_data['usefulCount'])\n",
        "plt.show()"
      ],
      "execution_count": null,
      "outputs": [
        {
          "output_type": "display_data",
          "data": {
            "image/png": "[encoded data removed]",
            "text/plain": [
              "<Figure size 864x432 with 1 Axes>"
            ]
          },
          "metadata": {
            "tags": []
          }
        }
      ]
    },
    {
      "cell_type": "code",
      "metadata": {
        "colab": {
          "base_uri": "https://localhost:8080/"
        },
        "id": "2XUPeyf0DeCz",
        "outputId": "d910890f-804a-455d-d20c-cf1da2cda778"
      },
      "source": [
        "merged_data.groupby('condition')['drugName'].nunique().sort_values(ascending=False).head(20)"
      ],
      "execution_count": null,
      "outputs": [
        {
          "output_type": "execute_result",
          "data": {
            "text/plain": [
              "condition\n",
              "Birth Control               73\n",
              "Pain                        46\n",
              "Depression                  40\n",
              "Acne                        29\n",
              "Anxiety                     29\n",
              "Bipolar Disorde             23\n",
              "Insomnia                    19\n",
              "ADHD                        19\n",
              "Major Depressive Disorde    16\n",
              "Urinary Tract Infection     14\n",
              "Diabetes, Type 2            14\n",
              "ibromyalgia                 13\n",
              "Migraine                    13\n",
              "High Blood Pressure         13\n",
              "Panic Disorde               12\n",
              "Obesity                     12\n",
              "Irritable Bowel Syndrome    12\n",
              "Osteoarthritis              12\n",
              "Chronic Pain                10\n",
              "Weight Loss                 10\n",
              "Name: drugName, dtype: int64"
            ]
          },
          "metadata": {
            "tags": []
          },
          "execution_count": 21
        }
      ]
    },
    {
      "cell_type": "code",
      "metadata": {
        "colab": {
          "base_uri": "https://localhost:8080/"
        },
        "id": "2-q1FLgTDf4H",
        "outputId": "23ed8dcf-09f7-4ee7-fde6-6babecc517af"
      },
      "source": [
        "span_data = merged_data[merged_data['condition'].str.contains('</span>',case=False,regex=True) == True]\n",
        "print('Number of rows with </span> values : ', len(span_data))\n",
        "noisy_data_ = 100 * (len(span_data)/merged_data.shape[0])\n",
        "print('Total percent of noisy data {} %  '.format(noisy_data_))"
      ],
      "execution_count": null,
      "outputs": [
        {
          "output_type": "stream",
          "text": [
            "Number of rows with </span> values :  18\n",
            "Total percent of noisy data 0.8999999999999999 %  \n"
          ],
          "name": "stdout"
        }
      ]
    },
    {
      "cell_type": "code",
      "metadata": {
        "id": "0PcTxb_1Dh1i"
      },
      "source": [
        "merged_data.drop(span_data.index, axis = 0, inplace=True)"
      ],
      "execution_count": null,
      "outputs": []
    },
    {
      "cell_type": "code",
      "metadata": {
        "colab": {
          "base_uri": "https://localhost:8080/"
        },
        "id": "OJNGdK7qDjzx",
        "outputId": "109f6ac9-3250-498d-e6c1-8c842121a80c"
      },
      "source": [
        "not_listed = merged_data[merged_data['condition'] == 'not listed / othe']\n",
        "print('Number of not_listed values : ', len(not_listed))\n",
        "percent_not_listed = 100 * len(not_listed)/merged_data.shape[0]\n",
        "print('Total percent of noisy data {} %  '.format(percent_not_listed))"
      ],
      "execution_count": null,
      "outputs": [
        {
          "output_type": "stream",
          "text": [
            "Number of not_listed values :  0\n",
            "Total percent of noisy data 0.0 %  \n"
          ],
          "name": "stdout"
        }
      ]
    },
    {
      "cell_type": "code",
      "metadata": {
        "id": "EYpnUalvDlby"
      },
      "source": [
        "merged_data.drop(not_listed.index, axis = 0, inplace=True)"
      ],
      "execution_count": null,
      "outputs": []
    },
    {
      "cell_type": "code",
      "metadata": {
        "id": "r4jQVf17DnZF"
      },
      "source": [
        "conditions_gp = merged_data.groupby('condition')['drugName'].nunique().sort_values(ascending=False)"
      ],
      "execution_count": null,
      "outputs": []
    },
    {
      "cell_type": "code",
      "metadata": {
        "colab": {
          "base_uri": "https://localhost:8080/"
        },
        "id": "tl9NsiIPDo6g",
        "outputId": "932425ed-66ab-4dcc-bab7-5afacbde5372"
      },
      "source": [
        "drug_multiple_cond = merged_data.groupby('drugName')['condition'].nunique().sort_values(ascending=False)\n",
        "print(drug_multiple_cond.head(10))"
      ],
      "execution_count": null,
      "outputs": [
        {
          "output_type": "stream",
          "text": [
            "drugName\n",
            "Metronidazole                      7\n",
            "Zoloft                             7\n",
            "Gabapentin                         7\n",
            "Sertraline                         6\n",
            "Clonazepam                         6\n",
            "Levofloxacin                       5\n",
            "Duloxetine                         5\n",
            "Clindamycin                        5\n",
            "Metoprolol                         5\n",
            "Sulfamethoxazole / trimethoprim    5\n",
            "Name: condition, dtype: int64\n"
          ],
          "name": "stdout"
        }
      ]
    },
    {
      "cell_type": "code",
      "metadata": {
        "colab": {
          "base_uri": "https://localhost:8080/"
        },
        "id": "-WvXNo7bDqjE",
        "outputId": "14df20b7-f9ec-482b-8fb8-231bc3648b11"
      },
      "source": [
        "merged_data[merged_data['rating'] == 10]['drugName'].nunique()"
      ],
      "execution_count": null,
      "outputs": [
        {
          "output_type": "execute_result",
          "data": {
            "text/plain": [
              "356"
            ]
          },
          "metadata": {
            "tags": []
          },
          "execution_count": 28
        }
      ]
    },
    {
      "cell_type": "code",
      "metadata": {
        "colab": {
          "base_uri": "https://localhost:8080/"
        },
        "id": "A6j7q9F8DsXY",
        "outputId": "f49de699-191a-4cdf-c8d1-9b6fa9818b54"
      },
      "source": [
        "merged_data[merged_data['drugName'] == 'Levonorgestrel']['condition'].unique()"
      ],
      "execution_count": null,
      "outputs": [
        {
          "output_type": "execute_result",
          "data": {
            "text/plain": [
              "array(['Emergency Contraception', 'Birth Control',\n",
              "       'Abnormal Uterine Bleeding', nan], dtype=object)"
            ]
          },
          "metadata": {
            "tags": []
          },
          "execution_count": 29
        }
      ]
    },
    {
      "cell_type": "code",
      "metadata": {
        "id": "vUva4vj5DuDO"
      },
      "source": [
        "merged_data['date'] = pd.to_datetime(merged_data['date'])\n",
        "merged_data['year'] = merged_data['date'].dt.year  #create year\n",
        "merged_data['month'] = merged_data['date'].dt.month #create month"
      ],
      "execution_count": null,
      "outputs": []
    },
    {
      "cell_type": "code",
      "metadata": {
        "colab": {
          "base_uri": "https://localhost:8080/"
        },
        "id": "zklkLXsDDvuE",
        "outputId": "40dcc69d-0a28-4df7-f6a0-89c04dd56141"
      },
      "source": [
        "merged_data.isnull().sum()"
      ],
      "execution_count": null,
      "outputs": [
        {
          "output_type": "execute_result",
          "data": {
            "text/plain": [
              "uniqueID       0\n",
              "drugName       0\n",
              "condition      9\n",
              "review         0\n",
              "rating         0\n",
              "date           0\n",
              "usefulCount    0\n",
              "year           0\n",
              "month          0\n",
              "dtype: int64"
            ]
          },
          "metadata": {
            "tags": []
          },
          "execution_count": 31
        }
      ]
    },
    {
      "cell_type": "code",
      "metadata": {
        "id": "J7A274AmDxi-"
      },
      "source": [
        "merged_data.dropna(inplace=True, axis=0)"
      ],
      "execution_count": null,
      "outputs": []
    },
    {
      "cell_type": "code",
      "metadata": {
        "colab": {
          "base_uri": "https://localhost:8080/"
        },
        "id": "vBcJ3ejEDzxZ",
        "outputId": "dd1622ca-44d4-4346-fd1b-99f5b512157d"
      },
      "source": [
        "for i in merged_data['review'][0:3]:\n",
        "    print(i,'\\n')"
      ],
      "execution_count": null,
      "outputs": [
        {
          "output_type": "stream",
          "text": [
            "\"It has no side effect, I take it in combination of Bystolic 5 Mg and Fish Oil\" \n",
            "\n",
            "\"My son is halfway through his fourth week of Intuniv. We became concerned when he began this last week, when he started taking the highest dose he will be on. For two days, he could hardly get out of bed, was very cranky, and slept for nearly 8 hours on a drive home from school vacation (very unusual for him.) I called his doctor on Monday morning and she said to stick it out a few days. See how he did at school, and with getting up in the morning. The last two days have been problem free. He is MUCH more agreeable than ever. He is less emotional (a good thing), less cranky. He is remembering all the things he should. Overall his behavior is better. \r\n",
            "We have tried many different medications and so far this is the most effective.\" \n",
            "\n",
            "\"I used to take another oral contraceptive, which had 21 pill cycle, and was very happy- very light periods, max 5 days, no other side effects. But it contained hormone gestodene, which is not available in US, so I switched to Lybrel, because the ingredients are similar. When my other pills ended, I started Lybrel immediately, on my first day of period, as the instructions said. And the period lasted for two weeks. When taking the second pack- same two weeks. And now, with third pack things got even worse- my third period lasted for two weeks and now it&#039;s the end of the third week- I still have daily brown discharge.\r\n",
            "The positive side is that I didn&#039;t have any other side effects. The idea of being period free was so tempting... Alas.\" \n",
            "\n"
          ],
          "name": "stdout"
        }
      ]
    },
    {
      "cell_type": "code",
      "metadata": {
        "id": "m56S2iqCD1MC"
      },
      "source": [
        "from bs4 import BeautifulSoup\n",
        "import nltk\n",
        "import re\n",
        "from nltk.corpus import stopwords\n",
        "from nltk.stem.snowball import SnowballStemmer"
      ],
      "execution_count": null,
      "outputs": []
    },
    {
      "cell_type": "code",
      "metadata": {
        "colab": {
          "base_uri": "https://localhost:8080/"
        },
        "id": "1sKzzYSeD2oZ",
        "outputId": "b3bf7c18-6705-46f3-e9df-0ae964c15e84"
      },
      "source": [
        "import nltk\n",
        "nltk.download('stopwords')"
      ],
      "execution_count": null,
      "outputs": [
        {
          "output_type": "stream",
          "text": [
            "[nltk_data] Downloading package stopwords to /root/nltk_data...\n",
            "[nltk_data]   Unzipping corpora/stopwords.zip.\n"
          ],
          "name": "stdout"
        },
        {
          "output_type": "execute_result",
          "data": {
            "text/plain": [
              "True"
            ]
          },
          "metadata": {
            "tags": []
          },
          "execution_count": 35
        }
      ]
    },
    {
      "cell_type": "code",
      "metadata": {
        "id": "vJVE-oa3D4Zk"
      },
      "source": [
        "stops = set(stopwords.words('english')) #english stopwords\n",
        "\n",
        "stemmer = SnowballStemmer('english') #SnowballStemmer"
      ],
      "execution_count": null,
      "outputs": []
    },
    {
      "cell_type": "code",
      "metadata": {
        "id": "9eHkIlYRD6Nk"
      },
      "source": [
        "def review_to_words(raw_review):\n",
        "    # 1. Delete HTML \n",
        "    review_text = BeautifulSoup(raw_review, 'html.parser').get_text()\n",
        "    # 2. Make a space\n",
        "    letters_only = re.sub('[^a-zA-Z]', ' ', review_text)\n",
        "    # 3. lower letters\n",
        "    words = letters_only.lower().split()\n",
        "    # 5. Stopwords \n",
        "    meaningful_words = [w for w in words if not w in stops]\n",
        "    # 6. Stemming\n",
        "    stemming_words = [stemmer.stem(w) for w in meaningful_words]\n",
        "    # 7. space join words\n",
        "    return( ' '.join(stemming_words))"
      ],
      "execution_count": null,
      "outputs": []
    },
    {
      "cell_type": "code",
      "metadata": {
        "id": "-8uKrn-KD7rf"
      },
      "source": [
        "merged_data['review'] = merged_data['review'].apply(review_to_words)"
      ],
      "execution_count": null,
      "outputs": []
    },
    {
      "cell_type": "code",
      "metadata": {
        "id": "JozoMpnRD9Ww"
      },
      "source": [
        "merged_data['sentiment'] = merged_data[\"rating\"].apply(lambda x: 1 if x > 5 else 0)"
      ],
      "execution_count": null,
      "outputs": []
    },
    {
      "cell_type": "code",
      "metadata": {
        "id": "HQFMOz3ID-0D"
      },
      "source": [
        "from sklearn.model_selection import train_test_split #import train_test_split\n",
        "from sklearn.feature_extraction.text import TfidfVectorizer #import TfidfVectorizer \n",
        "from sklearn.metrics import confusion_matrix #import confusion_matrix"
      ],
      "execution_count": null,
      "outputs": []
    },
    {
      "cell_type": "code",
      "metadata": {
        "colab": {
          "base_uri": "https://localhost:8080/"
        },
        "id": "2aNEwE11EAKW",
        "outputId": "1d717d01-a7fe-43e3-87f5-42aa90af453d"
      },
      "source": [
        "vectorizer = TfidfVectorizer()\n",
        "reviews_corpus = vectorizer.fit_transform(merged_data.review)\n",
        "reviews_corpus.shape"
      ],
      "execution_count": null,
      "outputs": [
        {
          "output_type": "execute_result",
          "data": {
            "text/plain": [
              "(1973, 5389)"
            ]
          },
          "metadata": {
            "tags": []
          },
          "execution_count": 41
        }
      ]
    },
    {
      "cell_type": "code",
      "metadata": {
        "colab": {
          "base_uri": "https://localhost:8080/"
        },
        "id": "ZRSAe_dDEBmo",
        "outputId": "cd9759d1-179b-4398-a54f-e09ad98b6b07"
      },
      "source": [
        "sentiment = merged_data['sentiment']\n",
        "sentiment.shape"
      ],
      "execution_count": null,
      "outputs": [
        {
          "output_type": "execute_result",
          "data": {
            "text/plain": [
              "(1973,)"
            ]
          },
          "metadata": {
            "tags": []
          },
          "execution_count": 42
        }
      ]
    },
    {
      "cell_type": "code",
      "metadata": {
        "colab": {
          "base_uri": "https://localhost:8080/"
        },
        "id": "a8GC7Wa7EDGg",
        "outputId": "4b2251a9-cac0-4b0b-a1f1-f57dd0a0d18e"
      },
      "source": [
        "from sklearn.model_selection import train_test_split\n",
        "X_train,X_test,Y_train,Y_test = train_test_split(reviews_corpus,sentiment,test_size=0.33,random_state=42)\n",
        "print('Train data shape ',X_train.shape,Y_train.shape)\n",
        "print('Test data shape ',X_test.shape,Y_test.shape)"
      ],
      "execution_count": null,
      "outputs": [
        {
          "output_type": "stream",
          "text": [
            "Train data shape  (1321, 5389) (1321,)\n",
            "Test data shape  (652, 5389) (652,)\n"
          ],
          "name": "stdout"
        }
      ]
    },
    {
      "cell_type": "code",
      "metadata": {
        "colab": {
          "base_uri": "https://localhost:8080/"
        },
        "id": "z-Ar7qM7EEpr",
        "outputId": "0603e8ae-6425-4958-91c6-cfa9cefea82c"
      },
      "source": [
        "from sklearn.ensemble import RandomForestClassifier\n",
        "RF = RandomForestClassifier().fit(X_train, Y_train)\n",
        "pred = RF.predict(X_test)\n",
        "\n",
        "print(\"Accuracy: %s\" % str(RF.score(X_test, Y_test)))\n",
        "print(\"Confusion Matrix\")\n",
        "print(confusion_matrix(pred, Y_test))"
      ],
      "execution_count": null,
      "outputs": [
        {
          "output_type": "stream",
          "text": [
            "Accuracy: 0.7315950920245399\n",
            "Confusion Matrix\n",
            "[[ 34  15]\n",
            " [160 443]]\n"
          ],
          "name": "stdout"
        }
      ]
    },
    {
      "cell_type": "code",
      "metadata": {
        "colab": {
          "base_uri": "https://localhost:8080/"
        },
        "id": "QxkkUCc5EGen",
        "outputId": "6871772b-c181-456e-9ee8-a57554485ef3"
      },
      "source": [
        "from sklearn.linear_model import LogisticRegression\n",
        "LR = LogisticRegression().fit(X_train, Y_train)\n",
        "pred = LR.predict(X_test)\n",
        "\n",
        "print(\"Accuracy: %s\" % str(LR.score(X_test, Y_test)))\n",
        "print(\"Confusion Matrix\")\n",
        "print(confusion_matrix(pred, Y_test))"
      ],
      "execution_count": null,
      "outputs": [
        {
          "output_type": "stream",
          "text": [
            "Accuracy: 0.7361963190184049\n",
            "Confusion Matrix\n",
            "[[ 27   5]\n",
            " [167 453]]\n"
          ],
          "name": "stdout"
        }
      ]
    },
    {
      "cell_type": "code",
      "metadata": {
        "colab": {
          "base_uri": "https://localhost:8080/"
        },
        "id": "nOCqbqY8EII5",
        "outputId": "518b7214-8526-430e-e735-385e0e50eef3"
      },
      "source": [
        "from sklearn.ensemble import GradientBoostingClassifier\n",
        "GB = GradientBoostingClassifier().fit(X_train, Y_train)\n",
        "pred = GB.predict(X_test)\n",
        "\n",
        "print(\"Accuracy: %s\" % str(GB.score(X_test, Y_test)))\n",
        "print(\"Confusion Matrix\")\n",
        "print(confusion_matrix(pred, Y_test))"
      ],
      "execution_count": null,
      "outputs": [
        {
          "output_type": "stream",
          "text": [
            "Accuracy: 0.7208588957055214\n",
            "Confusion Matrix\n",
            "[[ 50  38]\n",
            " [144 420]]\n"
          ],
          "name": "stdout"
        }
      ]
    },
    {
      "cell_type": "code",
      "metadata": {
        "colab": {
          "base_uri": "https://localhost:8080/"
        },
        "id": "vyZvaXqTEKIN",
        "outputId": "00acb277-874f-4764-c47e-222638c48cf9"
      },
      "source": [
        "from sklearn.ensemble import AdaBoostClassifier\n",
        "AB = AdaBoostClassifier().fit(X_train, Y_train)\n",
        "pred = AB.predict(X_test)\n",
        "\n",
        "print(\"Accuracy: %s\" % str(AB.score(X_test, Y_test)))\n",
        "print(\"Confusion Matrix\")\n",
        "print(confusion_matrix(pred, Y_test))"
      ],
      "execution_count": null,
      "outputs": [
        {
          "output_type": "stream",
          "text": [
            "Accuracy: 0.7070552147239264\n",
            "Confusion Matrix\n",
            "[[ 74  71]\n",
            " [120 387]]\n"
          ],
          "name": "stdout"
        }
      ]
    },
    {
      "cell_type": "code",
      "metadata": {
        "colab": {
          "base_uri": "https://localhost:8080/"
        },
        "id": "OEp_ruLHELqx",
        "outputId": "cdf87474-0962-4d4f-96a5-6c84ae439dd1"
      },
      "source": [
        "from imblearn.over_sampling import SMOTE\n",
        "sm = SMOTE(random_state=12, )\n",
        "X_train , Y_train = sm.fit_resample(X_train, Y_train.ravel())"
      ],
      "execution_count": null,
      "outputs": [
        {
          "output_type": "stream",
          "text": [
            "/usr/local/lib/python3.7/dist-packages/sklearn/externals/six.py:31: FutureWarning: The module is deprecated in version 0.21 and will be removed in version 0.23 since we've dropped support for Python 2.7. Please rely on the official version of six (https://pypi.org/project/six/).\n",
            "  \"(https://pypi.org/project/six/).\", FutureWarning)\n",
            "/usr/local/lib/python3.7/dist-packages/sklearn/utils/deprecation.py:144: FutureWarning: The sklearn.neighbors.base module is  deprecated in version 0.22 and will be removed in version 0.24. The corresponding classes / functions should instead be imported from sklearn.neighbors. Anything that cannot be imported from sklearn.neighbors is now part of the private API.\n",
            "  warnings.warn(message, FutureWarning)\n",
            "/usr/local/lib/python3.7/dist-packages/sklearn/utils/deprecation.py:87: FutureWarning: Function safe_indexing is deprecated; safe_indexing is deprecated in version 0.22 and will be removed in version 0.24.\n",
            "  warnings.warn(msg, category=FutureWarning)\n"
          ],
          "name": "stderr"
        }
      ]
    },
    {
      "cell_type": "code",
      "metadata": {
        "colab": {
          "base_uri": "https://localhost:8080/"
        },
        "id": "QLvT8N9pENiM",
        "outputId": "fce0086d-3851-4753-b393-4c69fafd4bda"
      },
      "source": [
        "print('After OverSampling, the shape of train_X: {}'.format(X_train.shape))\n",
        "print('After OverSampling, the shape of train_y: {} \\n'.format(Y_train.shape))"
      ],
      "execution_count": null,
      "outputs": [
        {
          "output_type": "stream",
          "text": [
            "After OverSampling, the shape of train_X: (1834, 5389)\n",
            "After OverSampling, the shape of train_y: (1834,) \n",
            "\n"
          ],
          "name": "stdout"
        }
      ]
    },
    {
      "cell_type": "code",
      "metadata": {
        "id": "NHxHObavESdz"
      },
      "source": [
        "from sklearn.model_selection import GridSearchCV\n",
        "from sklearn.linear_model import LogisticRegression\n",
        "from sklearn.metrics import confusion_matrix, precision_recall_curve, auc, roc_auc_score, roc_curve, recall_score, classification_report"
      ],
      "execution_count": null,
      "outputs": []
    },
    {
      "cell_type": "code",
      "metadata": {
        "colab": {
          "base_uri": "https://localhost:8080/"
        },
        "id": "Ri0sijn6EUSd",
        "outputId": "877f98a2-0327-47f0-e4ab-5acf29adc2cb"
      },
      "source": [
        "lr = LogisticRegression()\n",
        "lr.fit(X_train, Y_train)"
      ],
      "execution_count": null,
      "outputs": [
        {
          "output_type": "execute_result",
          "data": {
            "text/plain": [
              "LogisticRegression(C=1.0, class_weight=None, dual=False, fit_intercept=True,\n",
              "                   intercept_scaling=1, l1_ratio=None, max_iter=100,\n",
              "                   multi_class='auto', n_jobs=None, penalty='l2',\n",
              "                   random_state=None, solver='lbfgs', tol=0.0001, verbose=0,\n",
              "                   warm_start=False)"
            ]
          },
          "metadata": {
            "tags": []
          },
          "execution_count": 51
        }
      ]
    },
    {
      "cell_type": "code",
      "metadata": {
        "colab": {
          "base_uri": "https://localhost:8080/"
        },
        "id": "2aMxjJwqEV78",
        "outputId": "272c6cbb-03bd-427a-d4d0-66f5dcc45971"
      },
      "source": [
        "opred = lr.predict(X_test)\n",
        "\n",
        "print(\"Accuracy: %s\" % str(lr.score(X_test, Y_test)))\n",
        "print(\"Confusion Matrix\")\n",
        "print(confusion_matrix(opred, Y_test))"
      ],
      "execution_count": null,
      "outputs": [
        {
          "output_type": "stream",
          "text": [
            "Accuracy: 0.7515337423312883\n",
            "Confusion Matrix\n",
            "[[116  84]\n",
            " [ 78 374]]\n"
          ],
          "name": "stdout"
        }
      ]
    },
    {
      "cell_type": "code",
      "metadata": {
        "colab": {
          "base_uri": "https://localhost:8080/"
        },
        "id": "deFa0xE0EXsJ",
        "outputId": "cd74cbbb-bbe8-466c-b7a1-056b3ff89d97"
      },
      "source": [
        "rf= RandomForestClassifier().fit(X_train, Y_train)\n",
        "opred1 = rf.predict(X_test)\n",
        "\n",
        "print(\"Accuracy: %s\" % str(rf.score(X_test, Y_test)))\n",
        "print(\"Confusion Matrix\")\n",
        "print(confusion_matrix(opred1, Y_test))"
      ],
      "execution_count": null,
      "outputs": [
        {
          "output_type": "stream",
          "text": [
            "Accuracy: 0.7530674846625767\n",
            "Confusion Matrix\n",
            "[[ 72  39]\n",
            " [122 419]]\n"
          ],
          "name": "stdout"
        }
      ]
    },
    {
      "cell_type": "code",
      "metadata": {
        "colab": {
          "base_uri": "https://localhost:8080/"
        },
        "id": "7iLZqqNoEZVw",
        "outputId": "4bb371ce-8f40-4c4c-d490-0213be91179e"
      },
      "source": [
        "gb = GradientBoostingClassifier().fit(X_train, Y_train)\n",
        "opred3 = gb.predict(X_test)\n",
        "\n",
        "print(\"Accuracy: %s\" % str(gb.score(X_test, Y_test)))\n",
        "print(\"Confusion Matrix\")\n",
        "print(confusion_matrix(opred3, Y_test))"
      ],
      "execution_count": null,
      "outputs": [
        {
          "output_type": "stream",
          "text": [
            "Accuracy: 0.7285276073619632\n",
            "Confusion Matrix\n",
            "[[ 85  68]\n",
            " [109 390]]\n"
          ],
          "name": "stdout"
        }
      ]
    },
    {
      "cell_type": "code",
      "metadata": {
        "colab": {
          "base_uri": "https://localhost:8080/"
        },
        "id": "W8ZPPCBhEbuj",
        "outputId": "6f6fbebd-eff3-401a-a34a-593e5f475ca6"
      },
      "source": [
        "ab = AdaBoostClassifier().fit(X_train, Y_train)\n",
        "opred4 = ab.predict(X_test)\n",
        "\n",
        "print(\"Accuracy: %s\" % str(ab.score(X_test, Y_test)))\n",
        "print(\"Confusion Matrix\")\n",
        "print(confusion_matrix(opred4, Y_test))"
      ],
      "execution_count": null,
      "outputs": [
        {
          "output_type": "stream",
          "text": [
            "Accuracy: 0.6840490797546013\n",
            "Confusion Matrix\n",
            "[[103 115]\n",
            " [ 91 343]]\n"
          ],
          "name": "stdout"
        }
      ]
    },
    {
      "cell_type": "code",
      "metadata": {
        "colab": {
          "base_uri": "https://localhost:8080/"
        },
        "id": "3-uB6vnDEdmA",
        "outputId": "3926c936-2417-490a-da9a-ab1068ca97e5"
      },
      "source": [
        "#make variabel for save the result and to show it\n",
        "classifier = ('Random Forest','Logistic Regression','Gradient Boosting','Ada Boosting','SMOTE OVERSAMPLING with LR','SMOTE OVERSAMPLING with Rf','SMOTE OVERSAMPLING with GB','SMOTE OVERSAMPLING with AB')\n",
        "y_pos = np.arange(len(classifier))\n",
        "print(y_pos)\n",
        "score = [RF.score(X_test, Y_test),LR.score(X_test, Y_test),GB.score(X_test, Y_test),AB.score(X_test, Y_test),lr.score(X_test, Y_test),rf.score(X_test, Y_test),gb.score(X_test, Y_test),ab.score(X_test, Y_test)]\n",
        "print(score)"
      ],
      "execution_count": null,
      "outputs": [
        {
          "output_type": "stream",
          "text": [
            "[0 1 2 3 4 5 6 7]\n",
            "[0.7315950920245399, 0.7361963190184049, 0.7208588957055214, 0.7070552147239264, 0.7515337423312883, 0.7530674846625767, 0.7285276073619632, 0.6840490797546013]\n"
          ],
          "name": "stdout"
        }
      ]
    },
    {
      "cell_type": "code",
      "metadata": {
        "colab": {
          "base_uri": "https://localhost:8080/",
          "height": 415
        },
        "id": "0sTw_oecEfs1",
        "outputId": "e952d36f-8de7-48a3-e1fd-3a07e20f833b"
      },
      "source": [
        "import matplotlib.pyplot as plt2\n",
        "plt2.barh(y_pos, score, align='center', alpha=0.5,color='blue')\n",
        "plt2.yticks(y_pos, classifier)\n",
        "plt2.xlabel('Score')\n",
        "plt2.title('Classification Performance')\n",
        "plt2.show()"
      ],
      "execution_count": null,
      "outputs": [
        {
          "output_type": "display_data",
          "data": {
            "image/png": "[encoded data removed]",
            "text/plain": [
              "<Figure size 864x432 with 1 Axes>"
            ]
          },
          "metadata": {
            "tags": []
          }
        }
      ]
    },
    {
      "cell_type": "code",
      "metadata": {
        "id": "x-O4E1SLEh-i"
      },
      "source": [
        "import time\n",
        "\n",
        "import tensorflow as tf\n",
        "import tensorflow_hub as hub"
      ],
      "execution_count": null,
      "outputs": []
    },
    {
      "cell_type": "code",
      "metadata": {
        "id": "qXeRiwSHElFU"
      },
      "source": [
        "def load_dataset(file_path, num_samples):\n",
        "    df = pd.read_csv(file_path, usecols=[3, 4], nrows=num_samples)\n",
        "    df.columns = ['review', 'rating']\n",
        "\n",
        "    text = df['review'].tolist()\n",
        "    text = [str(t).encode('ascii', 'replace') for t in text]\n",
        "    text = np.array(text, dtype=object)[:]\n",
        "    \n",
        "    labels = df['rating'].tolist()\n",
        "    labels = [1 if i>=7 else 0 if i>=5 else -1 for i in labels]\n",
        "    labels = np.array(pd.get_dummies(labels), dtype=int)[:] \n",
        "\n",
        "    return labels, text"
      ],
      "execution_count": null,
      "outputs": []
    },
    {
      "cell_type": "code",
      "metadata": {
        "colab": {
          "base_uri": "https://localhost:8080/"
        },
        "id": "J2dxAXDlEnjV",
        "outputId": "cdbbc525-c1d3-46eb-cf31-7dfb55914dda"
      },
      "source": [
        "tmp_labels, tmp_text = load_dataset('/content/drive/MyDrive/drugrisk/data/drugsComTrain_raw.csv',568454)\n",
        "tmp_text.shape"
      ],
      "execution_count": null,
      "outputs": [
        {
          "output_type": "execute_result",
          "data": {
            "text/plain": [
              "(161297,)"
            ]
          },
          "metadata": {
            "tags": []
          },
          "execution_count": 60
        }
      ]
    },
    {
      "cell_type": "code",
      "metadata": {
        "colab": {
          "base_uri": "https://localhost:8080/"
        },
        "id": "jLYK-nwiEpQf",
        "outputId": "5fa6201f-433e-4cb4-8703-d8f6ffc9758f"
      },
      "source": [
        "test_labels, test_text=load_dataset('/content/drive/MyDrive/drugrisk/data/drugsComTest_raw.csv',500000)\n",
        "test_text.shape"
      ],
      "execution_count": null,
      "outputs": [
        {
          "output_type": "execute_result",
          "data": {
            "text/plain": [
              "(53766,)"
            ]
          },
          "metadata": {
            "tags": []
          },
          "execution_count": 61
        }
      ]
    },
    {
      "cell_type": "code",
      "metadata": {
        "colab": {
          "base_uri": "https://localhost:8080/"
        },
        "id": "MOk_qRMiEqnD",
        "outputId": "11b61d27-2206-4702-a4a5-a6048062b8f8"
      },
      "source": [
        "hub_layer = hub.KerasLayer(\"https://tfhub.dev/google/tf2-preview/nnlm-en-dim128/1\", output_shape=[128], input_shape=[], dtype=tf.string, name='input', trainable=False)\n",
        "\n",
        "model = tf.keras.Sequential()\n",
        "model.add(hub_layer)\n",
        "model.add(tf.keras.layers.Dense(1024, activation='relu'))\n",
        "model.add(tf.keras.layers.Dropout(0.2))\n",
        "model.add(tf.keras.layers.Dense(3, activation='softmax', name='output'))\n",
        "model.compile(loss='categorical_crossentropy',\n",
        "                  optimizer='Adam', metrics=['accuracy'])\n",
        "model.summary()"
      ],
      "execution_count": null,
      "outputs": [
        {
          "output_type": "stream",
          "text": [
            "Model: \"sequential\"\n",
            "_________________________________________________________________\n",
            "Layer (type)                 Output Shape              Param #   \n",
            "=================================================================\n",
            "input (KerasLayer)           (None, 128)               124642688 \n",
            "_________________________________________________________________\n",
            "dense (Dense)                (None, 1024)              132096    \n",
            "_________________________________________________________________\n",
            "dropout (Dropout)            (None, 1024)              0         \n",
            "_________________________________________________________________\n",
            "output (Dense)               (None, 3)                 3075      \n",
            "=================================================================\n",
            "Total params: 124,777,859\n",
            "Trainable params: 135,171\n",
            "Non-trainable params: 124,642,688\n",
            "_________________________________________________________________\n"
          ],
          "name": "stdout"
        }
      ]
    },
    {
      "cell_type": "code",
      "metadata": {
        "colab": {
          "base_uri": "https://localhost:8080/"
        },
        "id": "bq89EsQCEskp",
        "outputId": "baf2aac5-6552-4bfc-d2bb-bf735578e1c3"
      },
      "source": [
        "print(\"Training the model ...\")\n",
        "history = model.fit(tmp_text,tmp_labels, batch_size = 128, epochs=50, verbose=1,\n",
        "              validation_data=(test_text,test_labels),)"
      ],
      "execution_count": null,
      "outputs": [
        {
          "output_type": "stream",
          "text": [
            "Training the model ...\n",
            "Epoch 1/50\n",
            "421/421 [==============================] - 9s 18ms/step - loss: 0.7910 - accuracy: 0.6738 - val_loss: 0.7335 - val_accuracy: 0.6987\n",
            "Epoch 2/50\n",
            "421/421 [==============================] - 7s 17ms/step - loss: 0.7368 - accuracy: 0.6984 - val_loss: 0.7162 - val_accuracy: 0.7076\n",
            "Epoch 3/50\n",
            "421/421 [==============================] - 7s 17ms/step - loss: 0.7196 - accuracy: 0.7038 - val_loss: 0.7008 - val_accuracy: 0.7159\n",
            "Epoch 4/50\n",
            "421/421 [==============================] - 7s 17ms/step - loss: 0.7064 - accuracy: 0.7112 - val_loss: 0.6827 - val_accuracy: 0.7254\n",
            "Epoch 5/50\n",
            "421/421 [==============================] - 7s 17ms/step - loss: 0.6935 - accuracy: 0.7209 - val_loss: 0.6946 - val_accuracy: 0.7142\n",
            "Epoch 6/50\n",
            "421/421 [==============================] - 7s 17ms/step - loss: 0.6774 - accuracy: 0.7281 - val_loss: 0.6597 - val_accuracy: 0.7360\n",
            "Epoch 7/50\n",
            "421/421 [==============================] - 7s 17ms/step - loss: 0.6688 - accuracy: 0.7299 - val_loss: 0.6432 - val_accuracy: 0.7402\n",
            "Epoch 8/50\n",
            "421/421 [==============================] - 7s 17ms/step - loss: 0.6562 - accuracy: 0.7364 - val_loss: 0.6322 - val_accuracy: 0.7483\n",
            "Epoch 9/50\n",
            "421/421 [==============================] - 7s 17ms/step - loss: 0.6447 - accuracy: 0.7417 - val_loss: 0.6177 - val_accuracy: 0.7548\n",
            "Epoch 10/50\n",
            "421/421 [==============================] - 9s 20ms/step - loss: 0.6302 - accuracy: 0.7473 - val_loss: 0.6301 - val_accuracy: 0.7431\n",
            "Epoch 11/50\n",
            "421/421 [==============================] - 11s 26ms/step - loss: 0.6189 - accuracy: 0.7547 - val_loss: 0.6002 - val_accuracy: 0.7585\n",
            "Epoch 12/50\n",
            "421/421 [==============================] - 15s 35ms/step - loss: 0.6111 - accuracy: 0.7537 - val_loss: 0.5783 - val_accuracy: 0.7716\n",
            "Epoch 13/50\n",
            "421/421 [==============================] - 15s 35ms/step - loss: 0.5952 - accuracy: 0.7613 - val_loss: 0.5677 - val_accuracy: 0.7781\n",
            "Epoch 14/50\n",
            "421/421 [==============================] - 15s 36ms/step - loss: 0.5799 - accuracy: 0.7710 - val_loss: 0.5543 - val_accuracy: 0.7822\n",
            "Epoch 15/50\n",
            "421/421 [==============================] - 14s 32ms/step - loss: 0.5699 - accuracy: 0.7749 - val_loss: 0.5414 - val_accuracy: 0.7895\n",
            "Epoch 16/50\n",
            "421/421 [==============================] - 12s 29ms/step - loss: 0.5626 - accuracy: 0.7782 - val_loss: 0.5317 - val_accuracy: 0.7871\n",
            "Epoch 17/50\n",
            "421/421 [==============================] - 13s 31ms/step - loss: 0.5516 - accuracy: 0.7804 - val_loss: 0.5198 - val_accuracy: 0.8028\n",
            "Epoch 18/50\n",
            "421/421 [==============================] - 12s 28ms/step - loss: 0.5393 - accuracy: 0.7877 - val_loss: 0.5009 - val_accuracy: 0.8068\n",
            "Epoch 19/50\n",
            "421/421 [==============================] - 13s 31ms/step - loss: 0.5361 - accuracy: 0.7902 - val_loss: 0.4926 - val_accuracy: 0.8175\n",
            "Epoch 20/50\n",
            "421/421 [==============================] - 11s 27ms/step - loss: 0.5128 - accuracy: 0.7985 - val_loss: 0.4794 - val_accuracy: 0.8103\n",
            "Epoch 21/50\n",
            "421/421 [==============================] - 14s 33ms/step - loss: 0.5017 - accuracy: 0.8027 - val_loss: 0.4964 - val_accuracy: 0.7944\n",
            "Epoch 22/50\n",
            "421/421 [==============================] - 14s 32ms/step - loss: 0.4996 - accuracy: 0.8033 - val_loss: 0.4689 - val_accuracy: 0.8091\n",
            "Epoch 23/50\n",
            "421/421 [==============================] - 14s 34ms/step - loss: 0.4833 - accuracy: 0.8096 - val_loss: 0.4378 - val_accuracy: 0.8393\n",
            "Epoch 24/50\n",
            "421/421 [==============================] - 15s 37ms/step - loss: 0.4711 - accuracy: 0.8173 - val_loss: 0.4266 - val_accuracy: 0.8381\n",
            "Epoch 25/50\n",
            "421/421 [==============================] - 15s 36ms/step - loss: 0.4606 - accuracy: 0.8213 - val_loss: 0.4233 - val_accuracy: 0.8514\n",
            "Epoch 26/50\n",
            "421/421 [==============================] - 11s 26ms/step - loss: 0.4508 - accuracy: 0.8268 - val_loss: 0.4055 - val_accuracy: 0.8543\n",
            "Epoch 27/50\n",
            "421/421 [==============================] - 10s 24ms/step - loss: 0.4428 - accuracy: 0.8303 - val_loss: 0.3968 - val_accuracy: 0.8567\n",
            "Epoch 28/50\n",
            "421/421 [==============================] - 15s 36ms/step - loss: 0.4464 - accuracy: 0.8277 - val_loss: 0.3815 - val_accuracy: 0.8611\n",
            "Epoch 29/50\n",
            "421/421 [==============================] - 13s 30ms/step - loss: 0.4428 - accuracy: 0.8272 - val_loss: 0.3707 - val_accuracy: 0.8639\n",
            "Epoch 30/50\n",
            "421/421 [==============================] - 15s 35ms/step - loss: 0.4176 - accuracy: 0.8382 - val_loss: 0.3815 - val_accuracy: 0.8458\n",
            "Epoch 31/50\n",
            "421/421 [==============================] - 16s 38ms/step - loss: 0.4051 - accuracy: 0.8468 - val_loss: 0.3541 - val_accuracy: 0.8753\n",
            "Epoch 32/50\n",
            "421/421 [==============================] - 16s 38ms/step - loss: 0.3950 - accuracy: 0.8490 - val_loss: 0.3449 - val_accuracy: 0.8783\n",
            "Epoch 33/50\n",
            "421/421 [==============================] - 16s 38ms/step - loss: 0.3913 - accuracy: 0.8523 - val_loss: 0.3319 - val_accuracy: 0.8891\n",
            "Epoch 34/50\n",
            "421/421 [==============================] - 16s 37ms/step - loss: 0.3807 - accuracy: 0.8564 - val_loss: 0.3288 - val_accuracy: 0.8778\n",
            "Epoch 35/50\n",
            "421/421 [==============================] - 15s 35ms/step - loss: 0.3671 - accuracy: 0.8620 - val_loss: 0.3120 - val_accuracy: 0.8932\n",
            "Epoch 36/50\n",
            "421/421 [==============================] - 11s 26ms/step - loss: 0.3594 - accuracy: 0.8642 - val_loss: 0.3078 - val_accuracy: 0.8871\n",
            "Epoch 37/50\n",
            "421/421 [==============================] - 14s 34ms/step - loss: 0.3516 - accuracy: 0.8668 - val_loss: 0.2942 - val_accuracy: 0.8979\n",
            "Epoch 38/50\n",
            "421/421 [==============================] - 11s 26ms/step - loss: 0.3552 - accuracy: 0.8656 - val_loss: 0.2926 - val_accuracy: 0.9047\n",
            "Epoch 39/50\n",
            "421/421 [==============================] - 12s 27ms/step - loss: 0.3376 - accuracy: 0.8734 - val_loss: 0.2760 - val_accuracy: 0.9097\n",
            "Epoch 40/50\n",
            "421/421 [==============================] - 9s 22ms/step - loss: 0.3361 - accuracy: 0.8743 - val_loss: 0.2695 - val_accuracy: 0.9156\n",
            "Epoch 41/50\n",
            "421/421 [==============================] - 10s 23ms/step - loss: 0.3226 - accuracy: 0.8798 - val_loss: 0.2623 - val_accuracy: 0.9122\n",
            "Epoch 42/50\n",
            "421/421 [==============================] - 13s 31ms/step - loss: 0.3199 - accuracy: 0.8816 - val_loss: 0.2536 - val_accuracy: 0.9140\n",
            "Epoch 43/50\n",
            "421/421 [==============================] - 18s 42ms/step - loss: 0.3129 - accuracy: 0.8860 - val_loss: 0.2555 - val_accuracy: 0.9090\n",
            "Epoch 44/50\n",
            "421/421 [==============================] - 13s 32ms/step - loss: 0.3120 - accuracy: 0.8850 - val_loss: 0.2443 - val_accuracy: 0.9164\n",
            "Epoch 45/50\n",
            "421/421 [==============================] - 15s 35ms/step - loss: 0.3045 - accuracy: 0.8878 - val_loss: 0.2338 - val_accuracy: 0.9250\n",
            "Epoch 46/50\n",
            "421/421 [==============================] - 14s 33ms/step - loss: 0.3046 - accuracy: 0.8886 - val_loss: 0.2335 - val_accuracy: 0.9237\n",
            "Epoch 47/50\n",
            "421/421 [==============================] - 11s 27ms/step - loss: 0.2931 - accuracy: 0.8922 - val_loss: 0.2368 - val_accuracy: 0.9108\n",
            "Epoch 48/50\n",
            "421/421 [==============================] - 12s 28ms/step - loss: 0.2866 - accuracy: 0.8929 - val_loss: 0.2137 - val_accuracy: 0.9299\n",
            "Epoch 49/50\n",
            "421/421 [==============================] - 14s 34ms/step - loss: 0.2704 - accuracy: 0.9033 - val_loss: 0.2128 - val_accuracy: 0.9259\n",
            "Epoch 50/50\n",
            "421/421 [==============================] - 11s 27ms/step - loss: 0.2736 - accuracy: 0.8999 - val_loss: 0.2096 - val_accuracy: 0.9271\n"
          ],
          "name": "stdout"
        }
      ]
    },
    {
      "cell_type": "code",
      "metadata": {
        "id": "60yDRjiMEyEh"
      },
      "source": [
        "def plot_history(history):\n",
        "    \n",
        "    f, ax = plt.subplots(1, 2, figsize = (16, 7))\n",
        "    \n",
        "    acc = history.history['accuracy']\n",
        "    val_acc = history.history['val_accuracy']\n",
        "    loss = history.history['loss']\n",
        "    val_loss = history.history['val_loss']\n",
        "\n",
        "    epochs = range(1, len(acc) + 1)\n",
        "\n",
        "    plt.sca(ax[0])\n",
        "    plt.plot(epochs, acc, 'bo', label='Training acc')\n",
        "    plt.plot(epochs, val_acc, 'b', label='Validation acc')\n",
        "    plt.title('Training and validation accuracy')\n",
        "    plt.legend()\n",
        "\n",
        "    plt.sca(ax[1])\n",
        "    plt.plot(epochs, loss, 'bo', label='Training loss')\n",
        "    plt.plot(epochs, val_loss, 'b', label='Validation loss')\n",
        "    plt.title('Training and validation loss')\n",
        "    plt.legend()\n",
        "\n",
        "    plt.show()"
      ],
      "execution_count": null,
      "outputs": []
    },
    {
      "cell_type": "code",
      "metadata": {
        "colab": {
          "base_uri": "https://localhost:8080/",
          "height": 451
        },
        "id": "o5SiIncaHNVr",
        "outputId": "0d65d8f8-2f0b-47cc-dd40-d7a6afae6dae"
      },
      "source": [
        "plot_history(history)"
      ],
      "execution_count": null,
      "outputs": [
        {
          "output_type": "display_data",
          "data": {
            "image/png": "[encoded data removed]",
            "text/plain": [
              "<Figure size 1152x504 with 2 Axes>"
            ]
          },
          "metadata": {
            "tags": []
          }
        }
      ]
    },
    {
      "cell_type": "code",
      "metadata": {
        "id": "O0C11wrVHQ04"
      },
      "source": [
        ""
      ],
      "execution_count": null,
      "outputs": []
    }
  ]
}